{
 "cells": [
  {
   "cell_type": "markdown",
   "id": "839ad3de",
   "metadata": {},
   "source": [
    "- Program 2\n",
    " Write a Python program to do arithmetical operations addition and division."
   ]
  },
  {
   "cell_type": "code",
   "execution_count": 10,
   "id": "82ffae6a",
   "metadata": {},
   "outputs": [
    {
     "name": "stdout",
     "output_type": "stream",
     "text": [
      "enter first  number:2\n",
      "enter second number:2\n",
      "add two numebr:4\n",
      "sub toew number:0\n",
      "multiplai:4\n",
      "div tow number:1.0\n",
      "modulas tow number:0 given rimendar\n"
     ]
    }
   ],
   "source": [
    "num1=eval(input(\"enter first  number:\"))\n",
    "num2=eval(input(\"enter second number:\"))\n",
    "add=num1+num2\n",
    "division=num1/num2\n",
    "sub=num1-num2\n",
    "mul=num1*num2\n",
    "mod=num1%num2\n",
    "print(f\"add two numebr:{add}\")\n",
    "print(f\"sub toew number:{sub}\")\n",
    "print(f\"multiplai:{mul}\")\n",
    "print(f\"div tow number:{division}\")\n",
    "print(f\"modulas tow number:{mod} given rimendar\")"
   ]
  },
  {
   "cell_type": "markdown",
   "id": "9e1571a6",
   "metadata": {},
   "source": [
    "- Program 3 Write a Python program to find the area of a triangle."
   ]
  },
  {
   "cell_type": "code",
   "execution_count": 17,
   "id": "a22298cf",
   "metadata": {},
   "outputs": [
    {
     "name": "stdout",
     "output_type": "stream",
     "text": [
      "enter triangle of base:2\n",
      "enter triangle of height:3\n",
      "area of tringle 3.0\n"
     ]
    }
   ],
   "source": [
    "num3=eval(input(\"enter triangle of base:\"))\n",
    "num4=eval(input(\"enter triangle of height:\"))\n",
    "area=0.5*(num3*num4)\n",
    "print(f\"area of tringle {area}\")"
   ]
  },
  {
   "cell_type": "markdown",
   "id": "e5f8ae89",
   "metadata": {},
   "source": [
    "- Program 4 Write a Python program to swap two variables.\n"
   ]
  },
  {
   "cell_type": "code",
   "execution_count": 20,
   "id": "1890417c",
   "metadata": {},
   "outputs": [
    {
     "name": "stdout",
     "output_type": "stream",
     "text": [
      "curent value of a12 or b13\n",
      " after swap the value a13 and b0\n"
     ]
    }
   ],
   "source": [
    "a=12\n",
    "b=13\n",
    "vijay=0\n",
    "print(f\"curent value of a:{a} or b:{b}\")\n",
    "vaijy=a\n",
    "a=b\n",
    "b=vijay\n",
    "print(f\" after swap the value a:{a} and b:{b}\")"
   ]
  },
  {
   "cell_type": "markdown",
   "id": "884b5fb8",
   "metadata": {},
   "source": [
    "- Program 5 Write a Python program to generate a random number."
   ]
  },
  {
   "cell_type": "code",
   "execution_count": 23,
   "id": "9eeb8331",
   "metadata": {},
   "outputs": [
    {
     "name": "stdout",
     "output_type": "stream",
     "text": [
      "random number:10\n"
     ]
    }
   ],
   "source": [
    "import random\n",
    "num=random.randint(1,10)\n",
    "print(f\"random number:{num}\")"
   ]
  },
  {
   "cell_type": "markdown",
   "id": "6ebbc6b7",
   "metadata": {},
   "source": [
    "- Program 6 Write a Python program to convert kilometers to miles."
   ]
  },
  {
   "cell_type": "code",
   "execution_count": 25,
   "id": "f778dbef",
   "metadata": {},
   "outputs": [
    {
     "name": "stdout",
     "output_type": "stream",
     "text": [
      "enter the kilometer:2\n",
      "convert the kilometer to miles:1.2428\n"
     ]
    }
   ],
   "source": [
    "num1=eval(input(\"enter the kilometer:\"))\n",
    "miles=num1*0.6214\n",
    "print(f\"convert the kilometer to miles:{miles}\")"
   ]
  },
  {
   "cell_type": "markdown",
   "id": "87c537ae",
   "metadata": {},
   "source": [
    "- Program 7 Write a Python program to convert Celsius to Fahrenheit."
   ]
  },
  {
   "cell_type": "code",
   "execution_count": 26,
   "id": "47d58f83",
   "metadata": {},
   "outputs": [
    {
     "name": "stdout",
     "output_type": "stream",
     "text": [
      "enter the temp celsius1\n",
      "convert the celsius to fahrenheit:33.8\n"
     ]
    }
   ],
   "source": [
    "cel=eval(input(\"enter the temp celsius\"))\n",
    "far=cel*33.8\n",
    "print(f\"convert the celsius to fahrenheit:{far}\")"
   ]
  },
  {
   "cell_type": "markdown",
   "id": "d87fc88e",
   "metadata": {},
   "source": [
    "- Program 8 Write a Python program to display calendar"
   ]
  },
  {
   "cell_type": "code",
   "execution_count": 39,
   "id": "bd9e430d",
   "metadata": {},
   "outputs": [
    {
     "name": "stdout",
     "output_type": "stream",
     "text": [
      "Enter year: 2001\n",
      "Enter month: 1\n",
      "    January 2001\n",
      "Mo Tu We Th Fr Sa Su\n",
      " 1  2  3  4  5  6  7\n",
      " 8  9 10 11 12 13 14\n",
      "15 16 17 18 19 20 21\n",
      "22 23 24 25 26 27 28\n",
      "29 30 31\n",
      "\n"
     ]
    }
   ],
   "source": [
    "import calendar\n",
    "year = int(input(\"Enter year: \"))\n",
    "month = int(input(\"Enter month: \"))\n",
    "calender = calendar.month(year, month)\n",
    "print(calender)\n"
   ]
  },
  {
   "cell_type": "markdown",
   "id": "f8172113",
   "metadata": {},
   "source": [
    "- Program 9 Write a Python program to solve quadratic equation.\n",
    "          - The standard form of a quadratic equation is:\n",
    "            - where\n",
    "            -  a, b and c are real numbers and\n",
    "            -  The solutions of this quadratic equation is given by:\n",
    "             -  𝑎𝑥 + 𝑏𝑥 + 𝑐 = 0\n",
    "              - 2\n",
    "              -    𝑎 ≠ 0\n",
    "               - (−𝑏 ± (𝑏 − 4𝑎𝑐 )/(2𝑎)"
   ]
  },
  {
   "cell_type": "code",
   "execution_count": 40,
   "id": "f2c2d51d",
   "metadata": {},
   "outputs": [
    {
     "name": "stdout",
     "output_type": "stream",
     "text": [
      "Enter coefficient a: 1\n",
      "Enter coefficient b: 2\n",
      "Enter coefficient c: 3\n",
      "Root 1: -1.0 + 1.4142135623730951i\n",
      "Root 2: -1.0 - 1.4142135623730951i\n"
     ]
    }
   ],
   "source": [
    "import math\n",
    "# Input coefficients\n",
    "a = float(input(\"Enter coefficient a: \"))\n",
    "b = float(input(\"Enter coefficient b: \"))\n",
    "c = float(input(\"Enter coefficient c: \"))\n",
    "# Calculate the discriminant\n",
    "discriminant = b**2 - 4*a*c\n",
    "# Check if the discriminant is positive, negative, or zero\n",
    "if discriminant > 0:\n",
    " # Two real and distinct roots\n",
    " root1 = (-b + math.sqrt(discriminant)) / (2*a)\n",
    " root2 = (-b - math.sqrt(discriminant)) / (2*a)\n",
    " print(f\"Root 1: {root1}\")\n",
    " print(f\"Root 2: {root2}\")\n",
    "elif discriminant == 0:\n",
    " # One real root (repeated)\n",
    " root = -b / (2*a)\n",
    " print(f\"Root: {root}\")\n",
    "else:\n",
    " # Complex roots\n",
    " real_part = -b / (2*a)\n",
    " imaginary_part = math.sqrt(abs(discriminant)) / (2*a)\n",
    " print(f\"Root 1: {real_part} + {imaginary_part}i\")\n",
    " print(f\"Root 2: {real_part} - {imaginary_part}i\")"
   ]
  },
  {
   "cell_type": "markdown",
   "id": "1beb9ab1",
   "metadata": {},
   "source": [
    "- Program 10 - Write a Python program to swap two variables without temp variable.\n"
   ]
  },
  {
   "cell_type": "code",
   "execution_count": 44,
   "id": "68a8057e",
   "metadata": {},
   "outputs": [
    {
     "name": "stdout",
     "output_type": "stream",
     "text": [
      "enter the number a:1\n",
      "enter the second  number b:2\n",
      " print the value of a:2\n",
      " print the value of b:1\n"
     ]
    }
   ],
   "source": [
    "a=eval(input(\"enter the number a:\"))\n",
    "b=eval(input(\"enter the second  number b:\"))\n",
    "a,b=b,a\n",
    "print(f\" print the value of a:{a}\")\n",
    "print(f\" print the value of b:{b}\")"
   ]
  },
  {
   "cell_type": "markdown",
   "id": "5c2f2568",
   "metadata": {},
   "source": [
    "- Program 11 Write a Python Program to Check if a Number is Positive, Negative or Zero"
   ]
  },
  {
   "cell_type": "code",
   "execution_count": 46,
   "id": "9626b0f0",
   "metadata": {},
   "outputs": [
    {
     "name": "stdout",
     "output_type": "stream",
     "text": [
      "enter a number :2\n",
      "number is (+)ev:2\n"
     ]
    }
   ],
   "source": [
    "number=eval(input(\"enter a number :\"))\n",
    "if number<0:\n",
    "    print(f\"numer is (-)ev:{number}\")\n",
    "elif number==0:\n",
    "    print(f\"number is zero:{number}\")\n",
    "else:\n",
    "    print(f\"number is (+)ev:{number}\")"
   ]
  },
  {
   "cell_type": "markdown",
   "id": "52cf3173",
   "metadata": {},
   "source": [
    "- Program 12 Write a Python Program to Check if a Number is Odd or Even."
   ]
  },
  {
   "cell_type": "code",
   "execution_count": 50,
   "id": "94269ddc",
   "metadata": {},
   "outputs": [
    {
     "name": "stdout",
     "output_type": "stream",
     "text": [
      "enter a number :4\n",
      "number is even:4\n"
     ]
    }
   ],
   "source": [
    "number1=eval(input(\"enter a number :\"))\n",
    "if number1%2==0:\n",
    "    print(f\"number is even:{number1}\")\n",
    "else:\n",
    "    print(f\"number is odd:{number1}\")"
   ]
  },
  {
   "cell_type": "markdown",
   "id": "4877cb60",
   "metadata": {},
   "source": [
    "- Program 13 Write a Python Program to Check Leap Year"
   ]
  },
  {
   "cell_type": "code",
   "execution_count": 1,
   "id": "28828795",
   "metadata": {},
   "outputs": [
    {
     "name": "stdout",
     "output_type": "stream",
     "text": [
      "enter a year:1700\n",
      "this is not leap year:1700\n"
     ]
    }
   ],
   "source": [
    "year=eval(input(\"enter a year:\"))\n",
    "if year%400==0:\n",
    "    print(f\"this is leap year{year}\")\n",
    "\n",
    "else:\n",
    "    print(f\"this is not leap year:{year}\")"
   ]
  },
  {
   "cell_type": "markdown",
   "id": "028409b1",
   "metadata": {},
   "source": [
    "- Program 14 Write a Python Program to Check Prime Number.\n",
    " Prime Numbers:"
   ]
  },
  {
   "cell_type": "code",
   "execution_count": 19,
   "id": "4005a299",
   "metadata": {},
   "outputs": [
    {
     "name": "stdout",
     "output_type": "stream",
     "text": [
      "enter a number 12\n",
      "2\n",
      "3\n",
      "4\n",
      "5\n",
      "6\n",
      "7\n",
      "8\n",
      "9\n",
      "10\n",
      "11\n",
      "number is prime 12\n"
     ]
    }
   ],
   "source": [
    "import math\n",
    "n=eval(input(\"enter a number \"))\n",
    "if n>8:\n",
    "    for i in range(2,n):\n",
    "        print(i)\n",
    "        if i==math.sqrt(n):\n",
    "            print(\"number is not prime\",n)\n",
    "    else:\n",
    "        print(\"number is prime\",n)"
   ]
  },
  {
   "cell_type": "code",
   "execution_count": null,
   "id": "cfb938a6",
   "metadata": {},
   "outputs": [],
   "source": []
  },
  {
   "cell_type": "code",
   "execution_count": 52,
   "id": "2be12cae",
   "metadata": {},
   "outputs": [
    {
     "name": "stdout",
     "output_type": "stream",
     "text": [
      "enter the start4\n",
      "enter the end8\n",
      "57"
     ]
    }
   ],
   "source": [
    "start=int(input(\"enter the start\"))\n",
    "end=int(input(\"enter the end\"))\n",
    "for i in range(start,end):\n",
    "    for j in range(2,i):\n",
    "        if i%j==0:\n",
    "            break\n",
    "    else:\n",
    "        print(i,end=\"\")"
   ]
  },
  {
   "cell_type": "code",
   "execution_count": 12,
   "id": "19e2a34d",
   "metadata": {},
   "outputs": [
    {
     "name": "stdout",
     "output_type": "stream",
     "text": [
      "number is prime 11\n"
     ]
    }
   ],
   "source": [
    "import math\n",
    "#nmu=9\n",
    "#num1=math.sqrt(num)\n",
    "n2=11\n",
    "for i in range(2,n2):\n",
    "    if i==math.sqrt(n2):\n",
    "        print(\"number is not prime\")\n",
    "    else:\n",
    "        print(\"number is prime\",n2)\n",
    "        break"
   ]
  },
  {
   "cell_type": "code",
   "execution_count": 29,
   "id": "319f5aab",
   "metadata": {},
   "outputs": [
    {
     "data": {
      "text/plain": [
       "3.0"
      ]
     },
     "execution_count": 29,
     "metadata": {},
     "output_type": "execute_result"
    }
   ],
   "source": [
    "import math\n",
    "num=9\n",
    "num1=math.sqrt(num)\n",
    "num1"
   ]
  },
  {
   "cell_type": "code",
   "execution_count": 11,
   "id": "1763baa1",
   "metadata": {},
   "outputs": [
    {
     "name": "stdout",
     "output_type": "stream",
     "text": [
      "enter a number3\n",
      "no\n"
     ]
    }
   ],
   "source": [
    "n=eval(input(\"enter a number\"))\n",
    "if n==2:\n",
    "    print(n)\n",
    "else:\n",
    "    print(\"no\")"
   ]
  },
  {
   "cell_type": "markdown",
   "id": "5976e2cf",
   "metadata": {},
   "source": [
    "- Program 15 Write a Python Program to Print all Prime Numbers in an Interval of 1-10."
   ]
  },
  {
   "cell_type": "code",
   "execution_count": 21,
   "id": "d7109434",
   "metadata": {},
   "outputs": [
    {
     "name": "stdout",
     "output_type": "stream",
     "text": [
      "1\n",
      "2\n",
      "3\n",
      "5\n",
      "7\n"
     ]
    }
   ],
   "source": [
    "for i in range(1,10):\n",
    "    e=i\n",
    "    count=0\n",
    "    for a in range(2,e):\n",
    "        if e%a==0:\n",
    "            count+=1\n",
    "    if count==0:\n",
    "        print(e)"
   ]
  },
  {
   "cell_type": "code",
   "execution_count": null,
   "id": "9b19639b",
   "metadata": {},
   "outputs": [],
   "source": [
    "for a in range(1,101):\n",
    "    num=a\n",
    "    count=0\n",
    "    for i in range(2,num):\n",
    "        if num%i==0:\n",
    "            count+=1\n",
    "    if count==0:\n",
    "        print(num)"
   ]
  },
  {
   "cell_type": "code",
   "execution_count": 32,
   "id": "dbb3dff4",
   "metadata": {},
   "outputs": [
    {
     "name": "stdout",
     "output_type": "stream",
     "text": [
      "23\n",
      "29\n",
      "31\n",
      "37\n",
      "41\n",
      "43\n",
      "47\n",
      "53\n",
      "59\n",
      "61\n",
      "67\n",
      "71\n",
      "73\n",
      "79\n",
      "83\n",
      "89\n",
      "97\n"
     ]
    }
   ],
   "source": [
    "for a in range(20,101):\n",
    "    num=a\n",
    "    count=0\n",
    "    for i in range(2,num):\n",
    "        if num%i==0:\n",
    "            count+=1\n",
    "    if count==0:\n",
    "        print(num)"
   ]
  },
  {
   "cell_type": "markdown",
   "id": "2821b58e",
   "metadata": {},
   "source": [
    "- Program 16 Write a Python Program to Find the Factorial of a Number."
   ]
  },
  {
   "cell_type": "code",
   "execution_count": 35,
   "id": "9ebfea49",
   "metadata": {},
   "outputs": [
    {
     "name": "stdout",
     "output_type": "stream",
     "text": [
      "enter a nubmer5\n",
      "1\n"
     ]
    }
   ],
   "source": [
    "num=1\n",
    "for i in range(num)"
   ]
  },
  {
   "cell_type": "markdown",
   "id": "ded23be5",
   "metadata": {},
   "source": [
    "- Program 17 Write a Python Program to Display the multiplication Table.\n"
   ]
  },
  {
   "cell_type": "code",
   "execution_count": 54,
   "id": "bef82fa5",
   "metadata": {},
   "outputs": [
    {
     "name": "stdout",
     "output_type": "stream",
     "text": [
      "enter the number4\n",
      "4*1 = 4\n",
      "4*2 = 8\n",
      "4*3 = 12\n",
      "4*4 = 16\n",
      "4*5 = 20\n",
      "4*6 = 24\n",
      "4*7 = 28\n",
      "4*8 = 32\n",
      "4*9 = 36\n",
      "4*10 = 40\n"
     ]
    }
   ],
   "source": [
    "num=eval(input(\"enter the number\"))\n",
    "for i in range(1,11):\n",
    "    print(f\"{num}*{i} = {num*i}\")"
   ]
  },
  {
   "cell_type": "code",
   "execution_count": null,
   "id": "5773a886",
   "metadata": {},
   "outputs": [],
   "source": [
    "Program 18\n",
    "Write a Python Program to Print the Fibonacci sequence.\n",
    "Fibonacci sequence:\n",
    "The Fibonacci sequence is a series of numbers where each number is the sum of the two\n",
    "preceding ones, typically starting with 0 and 1. So, the sequence begins with 0 and 1, and\n",
    "the next number is obtained by adding the previous two numbers. This pattern continues\n",
    "indefinitely, generating a sequence that looks like this:\n",
    "0, 1, 1, 2, 3, 5, 8, 13, 21, 34, 55, 89, 144, and so on.\n",
    "Mathematically, the Fibonacci sequence can be defined using the following recurrence\n",
    "relation:\n",
    "𝐹(0) = 0 𝐹(1) = 1 𝐹(𝑛) = 𝐹(𝑛 − 1) + 𝐹(𝑛 − 2)𝑓𝑜𝑟𝑛 > 1"
   ]
  },
  {
   "cell_type": "code",
   "execution_count": null,
   "id": "a7fb1f57",
   "metadata": {},
   "outputs": [],
   "source": [
    "n=int(input())\n"
   ]
  },
  {
   "cell_type": "code",
   "execution_count": 11,
   "id": "4f146f21",
   "metadata": {},
   "outputs": [
    {
     "ename": "IndentationError",
     "evalue": "unexpected indent (728817323.py, line 13)",
     "output_type": "error",
     "traceback": [
      "\u001b[1;36m  Cell \u001b[1;32mIn[11], line 13\u001b[1;36m\u001b[0m\n\u001b[1;33m    nth=n+n2\u001b[0m\n\u001b[1;37m    ^\u001b[0m\n\u001b[1;31mIndentationError\u001b[0m\u001b[1;31m:\u001b[0m unexpected indent\n"
     ]
    }
   ],
   "source": [
    "# num=eval(input(\"enter a number\"))\n",
    "# n=0\n",
    "# n2=1\n",
    "# count=0\n",
    "# if num==n:\n",
    "#     print(f\" plase enter the positive number\")\n",
    "# elif num==1:\n",
    "#     print(f\"{n},{n2}\")\n",
    "# else:\n",
    "#     print(f\"\")\n",
    "#     while count<num:\n",
    "#         print(n)\n",
    "    nth=n+n2\n",
    "    #=n2\n",
    "    #n2=nth\n",
    "   # count+=1\n",
    "        \n",
    "        \n",
    "    "
   ]
  },
  {
   "cell_type": "code",
   "execution_count": 1,
   "id": "b67d7e50",
   "metadata": {},
   "outputs": [],
   "source": [
    "# nterms = int(input(\"How many terms? \"))\n",
    "# # first two terms\n",
    "# n1, n2 = 0, 1\n",
    "# count = 0\n",
    "# # check if the number of terms is valid\n",
    "# if nterms <= 0:\n",
    "#      print(\"Please enter a positive integer\")\n",
    "# # if there is only one term, return n1\n",
    "# elif nterms == 1:\n",
    "#     print(\"Fibonacci sequence upto\",nterms,\":\")\n",
    "#     print(n1)\n",
    "# # generate fibonacci sequence\n",
    "# else:\n",
    "#      print(\"Fibonacci sequence:\")\n",
    "# while count < nterms:\n",
    "#         print(n1)\n",
    "# nth = n1 + n2\n",
    "#  # update values\n",
    "# n1 = n2\n",
    "# n2 = nth\n",
    "# count += 1"
   ]
  },
  {
   "cell_type": "markdown",
   "id": "62f685b4",
   "metadata": {},
   "source": [
    "- Program 19-Write a Python Program to Check Armstrong Number?\n",
    "- Armstrong Number:\n",
    "- It is a number that is equal to the sum of its own digits, each raised to a power equal to the\n",
    "- number of digits in the number.\n",
    "- For example, let's consider the number 153:\n",
    "- It has three digits (1, 5, and 3).\n",
    "- If we calculate + , we get , which is equal to .\n",
    "- So, 153 is an Armstrong number because it equals the sum of its digits raised to the power\n",
    "- of the number of digits in the number.\n",
    "- Another example is 9474:\n",
    "- It has four digits (9, 4, 7, and 4)."
   ]
  },
  {
   "cell_type": "code",
   "execution_count": null,
   "id": "dcc7e0dc",
   "metadata": {},
   "outputs": [],
   "source": [
    "If we calculate , we get , which is also\n",
    "equal to .\n",
    "Therefore, 9474 is an Armstrong number as well.\n"
   ]
  },
  {
   "cell_type": "code",
   "execution_count": 55,
   "id": "e13d39c0",
   "metadata": {},
   "outputs": [
    {
     "name": "stdout",
     "output_type": "stream",
     "text": [
      "153\n"
     ]
    }
   ],
   "source": [
    "num=153\n",
    "rem1=0\n",
    "num1=num\n",
    "f=0\n",
    "while num!=0:\n",
    "    rem1=num%10\n",
    "    num=num//10\n",
    "    f=f+rem1*rem1*rem1\n",
    "if f==num1:\n",
    "    print(f)\n",
    "else:\n",
    "    print(\"hello\")"
   ]
  },
  {
   "cell_type": "markdown",
   "id": "e93112c9",
   "metadata": {},
   "source": [
    "- Program 20 Write a Python Program to Find Armstrong Number in an Interval."
   ]
  },
  {
   "cell_type": "code",
   "execution_count": 72,
   "id": "3d99d7ad",
   "metadata": {},
   "outputs": [
    {
     "name": "stdout",
     "output_type": "stream",
     "text": [
      "enter start from number100\n",
      "enter stope number2000\n",
      "1634\n"
     ]
    }
   ],
   "source": [
    "start=eval(input(\"enter start from number\"))\n",
    "stop=eval(input(\"enter stope number\"))\n",
    "new_stop=str(stop)\n",
    "for i in range(start,stop):\n",
    "    num=i\n",
    "    rem=0\n",
    "    s=0\n",
    "    while num!=0:\n",
    "        rem=num%10\n",
    "        num=num//10\n",
    "        s=s+rem**len(new_stop)\n",
    "    if s==i:\n",
    "        print(s)\n",
    "        "
   ]
  },
  {
   "cell_type": "code",
   "execution_count": 56,
   "id": "26d6519c",
   "metadata": {},
   "outputs": [
    {
     "name": "stdout",
     "output_type": "stream",
     "text": [
      "9474\n"
     ]
    }
   ],
   "source": [
    "num=9474\n",
    "rem1=0\n",
    "num1=num\n",
    "f=0\n",
    "while num!=0:\n",
    "    rem1=num%10\n",
    "    num=num//10\n",
    "    f=f+rem1*rem1*rem1*rem1\n",
    "if f==num1:\n",
    "    print(f)\n",
    "else:\n",
    "    print(\"hello\")"
   ]
  },
  {
   "cell_type": "code",
   "execution_count": 63,
   "id": "74a3318e",
   "metadata": {},
   "outputs": [
    {
     "name": "stdout",
     "output_type": "stream",
     "text": [
      "enter a number9474\n",
      "9474\n"
     ]
    }
   ],
   "source": [
    "number=eval(input(\"enter a number\"))\n",
    "len_number=str(number)\n",
    "rimendar=0\n",
    "new_number=0\n",
    "same_number=number\n",
    "while number!=0:\n",
    "    rimendar=number%10\n",
    "    number=number//10\n",
    "    new_number=new_number+rimendar**len(len_number)\n",
    "if new_number==same_number:\n",
    "    print(new_number)\n",
    "else:\n",
    "    print(\"hai\")"
   ]
  },
  {
   "cell_type": "code",
   "execution_count": null,
   "id": "16eb1c7a",
   "metadata": {},
   "outputs": [],
   "source": []
  },
  {
   "cell_type": "markdown",
   "id": "45121d98",
   "metadata": {},
   "source": [
    "- Program 21 -Write a Python Program to Find the Sum of Natural Numbers.\n",
    "- Natural numbers are a set of positive integers that are used to count and order objects.\n",
    "- They are the numbers that typically start from 1 and continue indefinitely, including all the\n",
    "- whole numbers greater than 0. In mathematical notation, the set of natural numbers is often\n",
    "- denoted as \"N\" and can be expressed as:\n",
    "- 𝑁 = 1, 2, 3, 4, 5, 6, 7, 8, . . .\n"
   ]
  },
  {
   "cell_type": "code",
   "execution_count": 6,
   "id": "41fa6ed1",
   "metadata": {},
   "outputs": [
    {
     "name": "stdout",
     "output_type": "stream",
     "text": [
      "enter a number99\n",
      "4950\n"
     ]
    }
   ],
   "source": [
    "num=eval(input(\"enter a number\"))\n",
    "natural=0\n",
    "if num>0:\n",
    "    for i in range(num+1):\n",
    "        natural=natural+i\n",
    "    print(natural)\n",
    "else:\n",
    "    print(\"number is not valid\")"
   ]
  },
  {
   "cell_type": "code",
   "execution_count": 12,
   "id": "80031bdd",
   "metadata": {},
   "outputs": [
    {
     "name": "stdout",
     "output_type": "stream",
     "text": [
      "enter a number3\n",
      "6\n"
     ]
    }
   ],
   "source": [
    "number=int(input(\"enter a number\"))\n",
    "s=0\n",
    "f=1\n",
    "num=2\n",
    "if number>0:\n",
    "    s=number*(number+f)//num\n",
    "    \n",
    "print(s)    "
   ]
  },
  {
   "cell_type": "code",
   "execution_count": null,
   "id": "ebbb0b20",
   "metadata": {},
   "outputs": [],
   "source": []
  },
  {
   "cell_type": "markdown",
   "id": "c9b281e8",
   "metadata": {},
   "source": [
    "```\n",
    "Program 22\n",
    "Write a Python Program to Find LCM.\n",
    "Least Common Multiple (LCM):\n",
    "LCM, or Least Common Multiple, is the smallest multiple that is exactly divisible by two or\n",
    "more numbers.\n",
    "Formula:\n",
    "For two numbers a and b, the LCM can be found using the formula:\n",
    "For more than two numbers, you can find the LCM step by step, taking the LCM of pairs of\n",
    "numbers at a time until you reach the last pair.\n",
    "Note: GCD stands for Greatest Common Diviso\n",
    "```"
   ]
  },
  {
   "cell_type": "code",
   "execution_count": 26,
   "id": "f80b8d9d",
   "metadata": {},
   "outputs": [
    {
     "name": "stdout",
     "output_type": "stream",
     "text": [
      "enter first number54\n",
      " enter second number24\n",
      "(54, 24) the given number of LCM = 6\n",
      "(54, 24) the given number of HCF= 216\n"
     ]
    }
   ],
   "source": [
    "n1=int(input(\"enter first number\"))\n",
    "n2=int(input(\" enter second number\"))\n",
    "number1=n1\n",
    "number2=n2\n",
    "rem=1\n",
    "while rem!=0:\n",
    "    rem=n2%n1\n",
    "    n2=n1\n",
    "    num=n1\n",
    "    n1=rem\n",
    "print(f\"{number1,number2} the given number of LCM = {num}\")\n",
    "s=number1*number2//num\n",
    "print(f\"{number1,number2} the given number of HCF= {s}\")"
   ]
  },
  {
   "cell_type": "code",
   "execution_count": null,
   "id": "d840d1fd",
   "metadata": {},
   "outputs": [],
   "source": []
  },
  {
   "cell_type": "markdown",
   "id": "9aa1d168",
   "metadata": {},
   "source": [
    "```\n",
    "Question NO. 23-Write a Python Program to Find HCF.\n",
    "Highest Common Factor(HCF):\n",
    "HCF, or Highest Common Factor, is the largest positive integer that divides two or more\n",
    "numbers without leaving a remainder.\n",
    "Formula:\n",
    "Enter the number: 54\n",
    "Enter the number: 24\n",
    "The L.C.M. is 216\n",
    "```"
   ]
  },
  {
   "cell_type": "code",
   "execution_count": 35,
   "id": "218809a9",
   "metadata": {},
   "outputs": [
    {
     "name": "stdout",
     "output_type": "stream",
     "text": [
      "enter first number54\n",
      "enter second number24\n",
      "(6, 0)tow number of LCM 6\n",
      "(6, 0) tow number of HCF216\n"
     ]
    }
   ],
   "source": [
    "num1=eval(input(\"enter first number\"))\n",
    "num2=eval(input(\"enter second number\"))\n",
    "Anumber=num1\n",
    "Bnumber=num2\n",
    "n=1\n",
    "while n!=0:\n",
    "    n=num1%num2\n",
    "    num1=num2\n",
    "    LCM=num1\n",
    "    num2=n\n",
    "print(f\"{num1,num2}tow number of LCM {LCM}\")\n",
    "HCF=Bnumber*Anumber//LCM\n",
    "print(f\"{num1,num2} tow number of HCF{HCF}\")"
   ]
  },
  {
   "cell_type": "code",
   "execution_count": null,
   "id": "0a8894e7",
   "metadata": {},
   "outputs": [],
   "source": []
  },
  {
   "cell_type": "markdown",
   "id": "b290a2be",
   "metadata": {},
   "source": [
    "- Program 24 Write a Python Program to Convert Decimal to Binary, Octal and Hexadecima"
   ]
  },
  {
   "cell_type": "code",
   "execution_count": 40,
   "id": "91fecb18",
   "metadata": {},
   "outputs": [
    {
     "name": "stdout",
     "output_type": "stream",
     "text": [
      "enter a intigar number:4\n",
      "convert to binary number 0b100\n",
      "convert to octal number 0o4\n",
      "convert to hex number 0x4\n"
     ]
    }
   ],
   "source": [
    "num=int(input(\"enter a intigar number:\"))\n",
    "print(\"convert to binary number\",bin(num))\n",
    "print(\"convert to octal number\",oct(num))\n",
    "print(\"convert to hex number\",hex(num))"
   ]
  },
  {
   "cell_type": "code",
   "execution_count": null,
   "id": "2c3b64c8",
   "metadata": {},
   "outputs": [],
   "source": []
  },
  {
   "cell_type": "markdown",
   "id": "23157c61",
   "metadata": {},
   "source": [
    "- Program 25 Write a Python Program To Find ASCII value of a character.\n",
    "ASCII value:\n"
   ]
  },
  {
   "cell_type": "code",
   "execution_count": 44,
   "id": "2628ab33",
   "metadata": {},
   "outputs": [
    {
     "name": "stdout",
     "output_type": "stream",
     "text": [
      "enter a characterg\n",
      "The given character ASCII value of :103\n"
     ]
    }
   ],
   "source": [
    "char=str(input(\"enter a character\"))\n",
    "print(f\"The given character ASCII value of :{ord(char)}\")"
   ]
  },
  {
   "cell_type": "code",
   "execution_count": null,
   "id": "2fd08e91",
   "metadata": {},
   "outputs": [],
   "source": []
  },
  {
   "cell_type": "markdown",
   "id": "27dc494b",
   "metadata": {},
   "source": [
    "- Program 26 Write a Python Program to Make a Simple Calculator with 4 basic mathematical\n",
    "operations."
   ]
  },
  {
   "cell_type": "code",
   "execution_count": 54,
   "id": "68251b2f",
   "metadata": {},
   "outputs": [
    {
     "name": "stdout",
     "output_type": "stream",
     "text": [
      "Enter first number22\n",
      "Enter second number2\n",
      "1 option is Add and 2 option is Sub and 3 option is multiplai and 4 option is div3\n",
      "Tow number add is: 0\n",
      "Tow number sub is: 0\n",
      "Tow number mul is: 44\n",
      "Tow number div is: 0\n"
     ]
    }
   ],
   "source": [
    "first_number=eval(input(\"Enter first number\"))\n",
    "second_number=eval(input(\"Enter second number\"))\n",
    "option=eval(input(\"1 option is Add and \"\n",
    "                  \"2 option is Sub and \"\n",
    "                  \"3 option is multiplai and \"\n",
    "                  \"4 option is div\"))\n",
    "sum1=0\n",
    "sub=0\n",
    "mul=0\n",
    "div=0\n",
    "if option==1:\n",
    "    sum1=first_number+second_number\n",
    "elif option==2:\n",
    "    sub=first_number-second_number\n",
    "elif option==3:\n",
    "    mul=first_number*second_number\n",
    "elif option==4:\n",
    "    div=first_number//second_number\n",
    "else:\n",
    "    print(\"plase velid enter option\")\n",
    "print(\"Tow number add is:\",sum1)\n",
    "print(\"Tow number sub is:\",sub)\n",
    "print(\"Tow number mul is:\",mul)\n",
    "print(\"Tow number div is:\",div)"
   ]
  },
  {
   "cell_type": "code",
   "execution_count": 49,
   "id": "801a84ae",
   "metadata": {},
   "outputs": [
    {
     "data": {
      "text/plain": [
       "7"
      ]
     },
     "execution_count": 49,
     "metadata": {},
     "output_type": "execute_result"
    }
   ],
   "source": [
    "def add(number1,number2):\n",
    "    "
   ]
  },
  {
   "cell_type": "code",
   "execution_count": null,
   "id": "9ac1caf4",
   "metadata": {},
   "outputs": [],
   "source": []
  },
  {
   "cell_type": "markdown",
   "id": "6d1ce663",
   "metadata": {},
   "source": [
    "- Program 27 Write a Python Program to Display Fibonacci Sequence Using Recursion.\n",
    "Fibonacci sequence:"
   ]
  },
  {
   "cell_type": "code",
   "execution_count": 31,
   "id": "4254bf74",
   "metadata": {},
   "outputs": [
    {
     "name": "stdout",
     "output_type": "stream",
     "text": [
      "1 2 3 5 8 13 21 34 55 "
     ]
    }
   ],
   "source": [
    "n=9\n",
    "num3=0\n",
    "num4=1\n",
    "fibonacci = num4\n",
    "count=1\n",
    "while count <= n:\n",
    "    print(fibonacci,end=\" \")\n",
    "    count+=1\n",
    "    num3 = num4\n",
    "    num4 = fibonacci\n",
    "    fibonacci = num3 + num4\n"
   ]
  },
  {
   "cell_type": "code",
   "execution_count": 28,
   "id": "a361dccd",
   "metadata": {},
   "outputs": [
    {
     "name": "stdout",
     "output_type": "stream",
     "text": [
      "1 2 3 5 8 13 21 34 55 "
     ]
    }
   ],
   "source": [
    "n = 9\n",
    "num1 = 0\n",
    "num2 = 1\n",
    "next_number = num2  \n",
    "count = 1\n",
    " \n",
    "while count <= n:\n",
    "    print(next_number, end=\" \")\n",
    "    count += 1\n",
    "    num1 = num2\n",
    "    num2 = next_number\n",
    "    next_number = num1 + num2"
   ]
  },
  {
   "cell_type": "code",
   "execution_count": null,
   "id": "82481d0d",
   "metadata": {},
   "outputs": [],
   "source": []
  },
  {
   "cell_type": "markdown",
   "id": "2f55dd03",
   "metadata": {},
   "source": [
    "- Program 28 Write a Python Program to Find Factorial of Number Using Recursion"
   ]
  },
  {
   "cell_type": "code",
   "execution_count": 43,
   "id": "af019d12",
   "metadata": {},
   "outputs": [
    {
     "name": "stdout",
     "output_type": "stream",
     "text": [
      "enter a number5\n",
      "120\n"
     ]
    }
   ],
   "source": [
    "num=int(input(\"enter a number\"))\n",
    "s=1\n",
    "m=0\n",
    "for i in range(1,num+1):\n",
    "    s=s*i\n",
    "    m=s\n",
    "print(m)    "
   ]
  },
  {
   "cell_type": "code",
   "execution_count": null,
   "id": "655f0e2c",
   "metadata": {},
   "outputs": [],
   "source": []
  },
  {
   "cell_type": "markdown",
   "id": "aeb71e35",
   "metadata": {},
   "source": [
    "- Program 30 Write a Python Program to calculate the natural logarithm of any number"
   ]
  },
  {
   "cell_type": "code",
   "execution_count": 53,
   "id": "7b4bbd8e",
   "metadata": {},
   "outputs": [
    {
     "name": "stdout",
     "output_type": "stream",
     "text": [
      "enter a number5\n",
      " number of 5 is the log value1.6094379124341003\n"
     ]
    }
   ],
   "source": [
    "import math\n",
    "number=int(input(\"enter a number\"))\n",
    "n=math.log(number)\n",
    "print(f\" number of {number} is the log value{n}\")"
   ]
  },
  {
   "cell_type": "markdown",
   "id": "4c0fc619",
   "metadata": {},
   "source": [
    "- Program 31 Write a Python Program for cube sum of first n natural numbers?\n"
   ]
  },
  {
   "cell_type": "code",
   "execution_count": 56,
   "id": "cba18a45",
   "metadata": {},
   "outputs": [
    {
     "name": "stdout",
     "output_type": "stream",
     "text": [
      "enter a number4\n",
      "64\n"
     ]
    }
   ],
   "source": [
    "num=int(input(\"enter a number\"))\n",
    "if num<=0:\n",
    "    print(\"pleas enter a valid number\")\n",
    "else:\n",
    "    cube=num**3\n",
    "    print(cube)"
   ]
  },
  {
   "cell_type": "markdown",
   "id": "8fc02888",
   "metadata": {},
   "source": [
    "- Program 32 Write a Python Program to find sum of array."
   ]
  },
  {
   "cell_type": "code",
   "execution_count": 63,
   "id": "9e8016a6",
   "metadata": {},
   "outputs": [
    {
     "name": "stdout",
     "output_type": "stream",
     "text": [
      "enter a number1,2,3,4\n",
      "[1, 2, 3, 4]\n"
     ]
    },
    {
     "data": {
      "text/plain": [
       "10"
      ]
     },
     "execution_count": 63,
     "metadata": {},
     "output_type": "execute_result"
    }
   ],
   "source": [
    "list1=eval(input(\"enter a number\"))\n",
    "num=list(list1)\n",
    "print(num)\n",
    "sum(num)\n"
   ]
  },
  {
   "cell_type": "markdown",
   "id": "8756ff09",
   "metadata": {},
   "source": [
    "- Program 33 Write a Python Program to find largest element in an array."
   ]
  },
  {
   "cell_type": "code",
   "execution_count": 65,
   "id": "9a1ac575",
   "metadata": {},
   "outputs": [
    {
     "data": {
      "text/plain": [
       "89"
      ]
     },
     "execution_count": 65,
     "metadata": {},
     "output_type": "execute_result"
    }
   ],
   "source": [
    "arr=[1,2,3,4,5,6,7,23,34,54,67,87,89]\n",
    "max(arr)"
   ]
  },
  {
   "cell_type": "markdown",
   "id": "c1045c9f",
   "metadata": {},
   "source": [
    "- Program 34 Write a Python Program for array rotation."
   ]
  },
  {
   "cell_type": "code",
   "execution_count": 1,
   "id": "6de6ff5c",
   "metadata": {},
   "outputs": [
    {
     "data": {
      "text/plain": [
       "[89, 87, 67, 54, 34, 23, 7, 6, 5, 4, 3, 2, 1]"
      ]
     },
     "execution_count": 1,
     "metadata": {},
     "output_type": "execute_result"
    }
   ],
   "source": [
    "arr=[1,2,3,4,5,6,7,23,34,54,67,87,89]\n",
    "arr[::-1]"
   ]
  },
  {
   "cell_type": "markdown",
   "id": "c27b0940",
   "metadata": {},
   "source": [
    "- Program 35 Write a Python Program to Split the array and add the first part to the end?"
   ]
  },
  {
   "cell_type": "code",
   "execution_count": 10,
   "id": "6c7b31d3",
   "metadata": {},
   "outputs": [
    {
     "data": {
      "text/plain": [
       "['[1,',\n",
       " '2,',\n",
       " '3,',\n",
       " '4,',\n",
       " '5,',\n",
       " '6,',\n",
       " '7,',\n",
       " '23,',\n",
       " '34,',\n",
       " '54,',\n",
       " '67,',\n",
       " '87,',\n",
       " '89]']"
      ]
     },
     "execution_count": 10,
     "metadata": {},
     "output_type": "execute_result"
    }
   ],
   "source": [
    "arr=[1,2,3,4,5,6,7,23,34,54,67,87,89]\n",
    "ar=str(arr)\n",
    "ar\n",
    "ar.split()\n",
    "#ar[1]+ar[::-1]"
   ]
  },
  {
   "cell_type": "code",
   "execution_count": 13,
   "id": "4fbb2dcb",
   "metadata": {},
   "outputs": [
    {
     "data": {
      "text/plain": [
       "('1', '8')"
      ]
     },
     "execution_count": 13,
     "metadata": {},
     "output_type": "execute_result"
    }
   ],
   "source": [
    "ar[1],ar[-3]"
   ]
  },
  {
   "cell_type": "markdown",
   "id": "3c3ffb23",
   "metadata": {},
   "source": [
    "- Program 36 Write a Python Program to check if given array is Monotonic"
   ]
  },
  {
   "cell_type": "code",
   "execution_count": 3,
   "id": "99dc75b2",
   "metadata": {},
   "outputs": [
    {
     "data": {
      "text/plain": [
       "[1, 2, 3, 4, 5]"
      ]
     },
     "execution_count": 3,
     "metadata": {},
     "output_type": "execute_result"
    }
   ],
   "source": [
    "arr1=[1,2,3,4,5]\n",
    "arr1"
   ]
  },
  {
   "cell_type": "markdown",
   "id": "5144998b",
   "metadata": {},
   "source": [
    "- Program 37 Write a Python Program to Add Two Matrices"
   ]
  },
  {
   "cell_type": "code",
   "execution_count": null,
   "id": "969e5bf6",
   "metadata": {},
   "outputs": [],
   "source": [
    "X=[[1,2,3],\n",
    "   [1,2,3],\n",
    "   [1,2,3]]\n",
    "Y=[[9,8,7],\n",
    "   [9,6,7],\n",
    "   [9,8,7]]\n",
    "result=[[0,0,0],\n",
    "        [0,0,0],\n",
    "        [0,0,0]]\n",
    "\n",
    "for i in range(len(X)):\n",
    "    for j in range(len(X[0])):\n",
    "        result[i][j]=X[i][j]+Y[i][j]\n",
    "\n",
    "\n",
    "\n",
    "for r in result:\n",
    "    print(r)\n"
   ]
  },
  {
   "cell_type": "markdown",
   "id": "1b342918",
   "metadata": {},
   "source": [
    "- Program 38 Write a Python Program to Multiply Two Matrices."
   ]
  },
  {
   "cell_type": "code",
   "execution_count": 76,
   "id": "4cfed475",
   "metadata": {},
   "outputs": [
    {
     "name": "stdout",
     "output_type": "stream",
     "text": [
      "[1, 4, 9]\n",
      "[1, 4, 9]\n",
      "[1, 4, 9]\n"
     ]
    }
   ],
   "source": [
    "R=[[1,2,3],\n",
    "   [1,2,3],\n",
    "   [1,2,3]]\n",
    "T=[[1,2,3],\n",
    "   [1,2,3],\n",
    "   [1,2,3]]\n",
    "Y=[[0,0,0],\n",
    "   [0,0,0],\n",
    "   [0,0,0]]\n",
    "for i in range(len(R)):\n",
    "    for j in range(len(R[0])):\n",
    "        Y[i][j]=R[i][j]*T[i][j]\n",
    "for r in Y:\n",
    "    print(r)"
   ]
  },
  {
   "cell_type": "markdown",
   "id": "4e73225f",
   "metadata": {},
   "source": [
    "- Program 39 Write a Python Program to Transpose a Matrix"
   ]
  },
  {
   "cell_type": "code",
   "execution_count": 100,
   "id": "e092a3ef",
   "metadata": {},
   "outputs": [
    {
     "name": "stdout",
     "output_type": "stream",
     "text": [
      "[1, 4, 9]\n",
      "[1, 5, 10]\n",
      "[1, 6, 11]\n",
      "[1, 4, 9]\n",
      "[1, 5, 10]\n",
      "[1, 6, 11]\n",
      "[1, 4, 9]\n",
      "[1, 5, 10]\n",
      "[1, 6, 11]\n"
     ]
    }
   ],
   "source": [
    "q=[[1, 4, 9],\n",
    "   [1, 5, 10],\n",
    "   [1, 6, 11]]\n",
    "o=[[0,0,0],\n",
    "   [0,0,0],\n",
    "   [0,0,0]]\n",
    "\n",
    "for i in range(len(q)):\n",
    "    for j in range(len(q[0])):\n",
    "        print(q[j])"
   ]
  },
  {
   "cell_type": "code",
   "execution_count": 93,
   "id": "f8c65ed5",
   "metadata": {},
   "outputs": [
    {
     "data": {
      "text/plain": [
       "[1, 5, 10]"
      ]
     },
     "execution_count": 93,
     "metadata": {},
     "output_type": "execute_result"
    }
   ],
   "source": [
    "o"
   ]
  },
  {
   "cell_type": "markdown",
   "id": "dd069cf3",
   "metadata": {},
   "source": [
    "- Program 40 Write a Python Program to Sort Words in Alphabetic Order."
   ]
  },
  {
   "cell_type": "code",
   "execution_count": 102,
   "id": "514f1dfe",
   "metadata": {},
   "outputs": [
    {
     "data": {
      "text/plain": [
       "['ajay', 'rahul', 'ranvijay', 'sanjay', 'vijay']"
      ]
     },
     "execution_count": 102,
     "metadata": {},
     "output_type": "execute_result"
    }
   ],
   "source": [
    "v=[\"vijay\",\"sanjay\",\"ajay\",\"ranvijay\",\"rahul\"]\n",
    "v.sort()\n",
    "v"
   ]
  },
  {
   "cell_type": "markdown",
   "id": "1572f032",
   "metadata": {},
   "source": [
    "- Program 43 Write a Python program to check if the given number is a Disarium Number."
   ]
  },
  {
   "cell_type": "code",
   "execution_count": 36,
   "id": "356b2e44",
   "metadata": {},
   "outputs": [
    {
     "name": "stdout",
     "output_type": "stream",
     "text": [
      "enter a number135\n",
      "135\n",
      "yes\n"
     ]
    }
   ],
   "source": [
    "num=int(input(\"enter a number\"))\n",
    "num1=num\n",
    "s=0\n",
    "rem=0\n",
    "while num!=0:\n",
    "    d=len(str(num))\n",
    "    rem= num%10\n",
    "    s=s+rem**d\n",
    "    num=num//10\n",
    "print(s)\n",
    "if s==num1:\n",
    "    print(\"yes\")\n",
    "else:\n",
    "    print(\"no\")"
   ]
  },
  {
   "cell_type": "markdown",
   "id": "02497dd8",
   "metadata": {},
   "source": [
    "- Program 44 Write a Python program to print all disarium numbers between 1 to 100"
   ]
  },
  {
   "cell_type": "code",
   "execution_count": 34,
   "id": "9f7ee586",
   "metadata": {},
   "outputs": [
    {
     "name": "stdout",
     "output_type": "stream",
     "text": [
      "1\n",
      "2\n",
      "3\n",
      "4\n",
      "5\n",
      "6\n",
      "7\n",
      "8\n",
      "9\n",
      "89\n"
     ]
    }
   ],
   "source": [
    "for i in range(1,101):\n",
    "    num=i\n",
    "    #num1=num\n",
    "    \n",
    "    s=0\n",
    "    a=1\n",
    "    while num!=0:\n",
    "        d=len(str(num))\n",
    "        rem=num%10\n",
    "        s=s+rem**d\n",
    "        num=num//10\n",
    "    if s==i:\n",
    "        print(s)\n",
    "        "
   ]
  },
  {
   "cell_type": "markdown",
   "id": "c9c3fa73",
   "metadata": {},
   "source": [
    "### Program 45 Write a Python program to check if the given number is Happy Number.\n",
    "number = 32\n",
    "<br>\n",
    "3<sup>2</sup> + 2<sup>2</sup> = 13 <br>\n",
    "1<sup>2</sup> + 3<sup>2</sup> = 10 <br>\n",
    "1<sup>2</sup> + 0<sup>2</sup> = 1"
   ]
  },
  {
   "cell_type": "code",
   "execution_count": 8,
   "id": "08c52390",
   "metadata": {},
   "outputs": [
    {
     "name": "stdout",
     "output_type": "stream",
     "text": [
      "Enter a number32\n",
      "9\n",
      "9\n",
      "13\n",
      "13\n"
     ]
    }
   ],
   "source": [
    "num=eval(input(\"Enter a number\"))\n",
    "num1=num\n",
    "s=0\n",
    "while num!=0:\n",
    "    rem = num%10\n",
    "    s += rem**2\n",
    "    num = num//10"
   ]
  },
  {
   "cell_type": "code",
   "execution_count": null,
   "id": "c6055451",
   "metadata": {},
   "outputs": [],
   "source": []
  },
  {
   "cell_type": "markdown",
   "id": "1eef63c7",
   "metadata": {},
   "source": [
    "\n",
    "<h4 style=\"color:red\"> Program 46 Write a Python program to print all happy numbers between 1 and 100.</h4>"
   ]
  },
  {
   "cell_type": "code",
   "execution_count": null,
   "id": "d51ef438",
   "metadata": {},
   "outputs": [],
   "source": []
  },
  {
   "cell_type": "markdown",
   "id": "0f023bc5",
   "metadata": {},
   "source": [
    "#### Program 47 Write a Python program to determine whether the given number is a Harshad Number."
   ]
  },
  {
   "cell_type": "code",
   "execution_count": 59,
   "id": "68b99494",
   "metadata": {},
   "outputs": [
    {
     "name": "stdout",
     "output_type": "stream",
     "text": [
      "enter a number:18\n",
      "Harshad number 18\n"
     ]
    }
   ],
   "source": [
    "num=eval(input(\"enter a number:\"))\n",
    "num1=num\n",
    "s=0\n",
    "while num!=0:\n",
    "    red=num%10\n",
    "    s=s+red\n",
    "    num=num//10\n",
    "if num1%s==0:\n",
    "    print(\"Harshad number\",num1)\n",
    "else:\n",
    "    print(\"not hatshad number\",num1)\n",
    "    "
   ]
  },
  {
   "cell_type": "code",
   "execution_count": null,
   "id": "252ea7fd",
   "metadata": {},
   "outputs": [],
   "source": []
  },
  {
   "cell_type": "markdown",
   "id": "20537b6c",
   "metadata": {},
   "source": [
    "### Program 48 Write a Python program to print all pronic numbers between 1 and 100"
   ]
  },
  {
   "cell_type": "code",
   "execution_count": 15,
   "id": "7d0dae8a",
   "metadata": {},
   "outputs": [
    {
     "name": "stdout",
     "output_type": "stream",
     "text": [
      "enter a number 20\n"
     ]
    }
   ],
   "source": [
    "num=eval(input(\"enter a number \"))\n",
    "num1=num\n",
    "for i in range(1,num):\n",
    "    if num1//i==0:\n",
    "        if num1//i+1==0:\n",
    "            print(\"number\",num)"
   ]
  },
  {
   "cell_type": "markdown",
   "id": "d3c8889d",
   "metadata": {},
   "source": [
    "### Program 49 write python program to add the hool list"
   ]
  },
  {
   "cell_type": "code",
   "execution_count": 20,
   "id": "e791c014",
   "metadata": {},
   "outputs": [
    {
     "name": "stdout",
     "output_type": "stream",
     "text": [
      "list [20, 30, 40, 50]\n",
      "list sum 140\n"
     ]
    }
   ],
   "source": [
    "list1=[20,30,40,50]\n",
    "print(\"list\",list1)\n",
    "print(\"list sum\",sum(list1))"
   ]
  },
  {
   "cell_type": "markdown",
   "id": "ba3b4b71",
   "metadata": {},
   "source": [
    "### Program 50 Write a Python program to Multiply all numbers in the list."
   ]
  },
  {
   "cell_type": "code",
   "execution_count": 25,
   "id": "39ceb570",
   "metadata": {},
   "outputs": [
    {
     "name": "stdout",
     "output_type": "stream",
     "text": [
      "Multiply all number of the list 12000000\n"
     ]
    }
   ],
   "source": [
    "list1=[10,20,30,40,50]\n",
    "s=1\n",
    "for i in range(len(list1)):\n",
    "    s=s*(list1[i])\n",
    "print(\"Multiply all number of the list\",s)"
   ]
  },
  {
   "cell_type": "markdown",
   "id": "c2b7705f",
   "metadata": {},
   "source": [
    "### Program 52 Write a Python program to find largest number in a list"
   ]
  },
  {
   "cell_type": "code",
   "execution_count": 28,
   "id": "7aee8dab",
   "metadata": {},
   "outputs": [
    {
     "name": "stdout",
     "output_type": "stream",
     "text": [
      "102\n"
     ]
    }
   ],
   "source": [
    "list2=[99,89,76,76,102,5,4,3]\n",
    "s=1\n",
    "for i in list2:\n",
    "    if i>s:\n",
    "        s=i\n",
    "print(s)\n",
    "        \n",
    "    "
   ]
  },
  {
   "cell_type": "code",
   "execution_count": null,
   "id": "c749b279",
   "metadata": {},
   "outputs": [],
   "source": [
    "list2=[99,89,76,76,102,5,4,3]\n",
    "max(list2)"
   ]
  },
  {
   "cell_type": "markdown",
   "id": "2b38e6a8",
   "metadata": {},
   "source": [
    "### Program 53 Write a Python program to find second largest number in a list."
   ]
  },
  {
   "cell_type": "code",
   "execution_count": 56,
   "id": "038727ad",
   "metadata": {},
   "outputs": [
    {
     "name": "stdout",
     "output_type": "stream",
     "text": [
      "0\n",
      "1\n",
      "2\n",
      "3\n",
      "4\n",
      "5\n",
      "6\n"
     ]
    },
    {
     "data": {
      "text/plain": [
       "7"
      ]
     },
     "execution_count": 56,
     "metadata": {},
     "output_type": "execute_result"
    }
   ],
   "source": [
    "num=[7,6,5,4,3,2,1]\n",
    "s=1\n",
    "for i in range(len(num)):\n",
    "    print(i)\n",
    "    if num[i]>s:\n",
    "        s=num[i]\n",
    "s"
   ]
  },
  {
   "cell_type": "code",
   "execution_count": 67,
   "id": "5a1382d1",
   "metadata": {},
   "outputs": [
    {
     "name": "stdout",
     "output_type": "stream",
     "text": [
      "second largest number 6\n"
     ]
    }
   ],
   "source": [
    "num.sort()\n",
    "num.reverse()\n",
    "print(\"second largest number\",num[1])"
   ]
  },
  {
   "cell_type": "markdown",
   "id": "597784de",
   "metadata": {},
   "source": [
    "### Program 54 Write a Python program to find N largest elements from a list."
   ]
  },
  {
   "cell_type": "code",
   "execution_count": 70,
   "id": "a88e46e5",
   "metadata": {},
   "outputs": [
    {
     "name": "stdout",
     "output_type": "stream",
     "text": [
      "The 3 largest elements in the list are:345,100,98\n"
     ]
    }
   ],
   "source": [
    "numbers = [30, 10, 45, 5, 20, 50, 15, 3, 345, 54, 67, 87, 98, 100, 34,]\n",
    "numbers.sort()\n",
    "numbers.reverse()\n",
    "print(f\"The {3} largest elements in the list are:{numbers[0]},{numbers[1]},{numbers[2]}\")"
   ]
  },
  {
   "cell_type": "markdown",
   "id": "2355d2dc",
   "metadata": {},
   "source": [
    "### Program 55 Write a Python program to print even numbers in a list"
   ]
  },
  {
   "cell_type": "code",
   "execution_count": 88,
   "id": "b95e41ba",
   "metadata": {},
   "outputs": [
    {
     "name": "stdout",
     "output_type": "stream",
     "text": [
      "Even number in the given list[30, 10, 20, 50, 54, 98, 100, 34]\n"
     ]
    }
   ],
   "source": [
    "numbers = [30, 10, 45, 5, 20, 50, 15, 3, 345, 54, 67, 87, 98, 100, 34,]\n",
    "num2=[]\n",
    "for i in numbers:\n",
    "    if i%2==0:\n",
    "        num2.append(i)\n",
    "print(f\"Even number in the given list{num2}\")"
   ]
  },
  {
   "cell_type": "markdown",
   "id": "55f96acd",
   "metadata": {},
   "source": [
    "### Program 56 Write a Python program to print odd numbers in a List"
   ]
  },
  {
   "cell_type": "code",
   "execution_count": 94,
   "id": "8669cad1",
   "metadata": {},
   "outputs": [
    {
     "name": "stdout",
     "output_type": "stream",
     "text": [
      "Odd number in the given list[45, 5, 15, 3, 345, 67, 87]\n"
     ]
    }
   ],
   "source": [
    "numbers = [30, 10, 45, 5, 20, 50, 15, 3, 345, 54, 67, 87, 98, 100, 34,]\n",
    "num3=[]\n",
    "for i in numbers:\n",
    "    if i%2!=0:\n",
    "        num3.append(i)\n",
    "print(f\"Odd number in the given list{num3}\")"
   ]
  },
  {
   "cell_type": "markdown",
   "id": "f6d9c4ea",
   "metadata": {},
   "source": [
    "### Program 57 Write a Python program to Remove empty List from List."
   ]
  },
  {
   "cell_type": "code",
   "execution_count": 98,
   "id": "5c57d4ce",
   "metadata": {},
   "outputs": [
    {
     "data": {
      "text/plain": [
       "[[1, 2, 3], [4, 5], [6, 7, 8]]"
      ]
     },
     "execution_count": 98,
     "metadata": {},
     "output_type": "execute_result"
    }
   ],
   "source": [
    "list_of_lists = [[1, 2, 3], [], [4, 5], [], [6, 7, 8], []]\n",
    "filtered_list = [i for i in list_of_lists if i]\n",
    "filtered_list"
   ]
  },
  {
   "cell_type": "code",
   "execution_count": 105,
   "id": "8c2724c5",
   "metadata": {},
   "outputs": [
    {
     "name": "stdout",
     "output_type": "stream",
     "text": [
      "[1, 2, 3]\n",
      "[]\n",
      "[4, 5]\n",
      "[]\n",
      "[6, 7, 8]\n",
      "[]\n"
     ]
    }
   ],
   "source": [
    "list_of_lists = [[1, 2, 3], [], [4, 5], [], [6, 7, 8], []]\n",
    "for i in list_of_lists:\n",
    "    print(i)"
   ]
  },
  {
   "cell_type": "markdown",
   "id": "70a709b2",
   "metadata": {},
   "source": [
    "### Program 58 Write a Python program to Cloning or Copying a list."
   ]
  },
  {
   "cell_type": "code",
   "execution_count": 108,
   "id": "b48bda4b",
   "metadata": {},
   "outputs": [
    {
     "data": {
      "text/plain": [
       "[1, 2, 3, 4, 5]"
      ]
     },
     "execution_count": 108,
     "metadata": {},
     "output_type": "execute_result"
    }
   ],
   "source": [
    "original_list = [1, 2, 3, 4, 5]\n",
    "col=[]\n",
    "for i in original_list:\n",
    "    col.append(i)\n",
    "col"
   ]
  },
  {
   "cell_type": "code",
   "execution_count": 110,
   "id": "00b67476",
   "metadata": {},
   "outputs": [
    {
     "data": {
      "text/plain": [
       "[1, 2, 3, 4, 5]"
      ]
     },
     "execution_count": 110,
     "metadata": {},
     "output_type": "execute_result"
    }
   ],
   "source": [
    "original_list = [1, 2, 3, 4, 5]\n",
    "col1=original_list[:]\n",
    "col1"
   ]
  },
  {
   "cell_type": "code",
   "execution_count": 112,
   "id": "e9d55311",
   "metadata": {},
   "outputs": [
    {
     "data": {
      "text/plain": [
       "[1, 2, 3, 4, 5]"
      ]
     },
     "execution_count": 112,
     "metadata": {},
     "output_type": "execute_result"
    }
   ],
   "source": [
    "original_list = [1, 2, 3, 4, 5]\n",
    "col2=list(original_list)\n",
    "col2"
   ]
  },
  {
   "cell_type": "markdown",
   "id": "9fd2bce3",
   "metadata": {},
   "source": [
    "### Program 59 Write a Python program to Count occurrences of an element in a list.\n"
   ]
  },
  {
   "cell_type": "code",
   "execution_count": 124,
   "id": "67e9745c",
   "metadata": {},
   "outputs": [
    {
     "data": {
      "text/plain": [
       "3"
      ]
     },
     "execution_count": 124,
     "metadata": {},
     "output_type": "execute_result"
    }
   ],
   "source": [
    "my_list = [1, 2, 3, 4, 2, 5, 2, 3, 4, 6, 5]\n",
    "my_list.count(2)"
   ]
  },
  {
   "cell_type": "markdown",
   "id": "6f351f51",
   "metadata": {},
   "source": [
    "### Program 60 Write a Python program to find words which are greater than given length k"
   ]
  },
  {
   "cell_type": "code",
   "execution_count": 130,
   "id": "7673d3d7",
   "metadata": {},
   "outputs": [
    {
     "name": "stdout",
     "output_type": "stream",
     "text": [
      "The given list find out which have lenth 5:['banana', 'cherry', 'elderberry', 'dragon']\n"
     ]
    }
   ],
   "source": [
    "word_list = [\"apple\", \"banana\", \"cherry\", \"date\", \"elderberry\", \"dragon\"]\n",
    "len_of_5=[]\n",
    "for i in range(len(word_list)):\n",
    "     if len(word_list[i])>5:\n",
    "            len_of_5.append(word_list[i])\n",
    "print(f\"The given list find out which have lenth 5:{len_of_5}\")"
   ]
  },
  {
   "cell_type": "markdown",
   "id": "f3e409cf",
   "metadata": {},
   "source": [
    "### Program 61 Write a Python program for removing 7th character from a string. "
   ]
  },
  {
   "cell_type": "code",
   "execution_count": 155,
   "id": "f946d755",
   "metadata": {},
   "outputs": [
    {
     "data": {
      "text/plain": [
       "'hello World'"
      ]
     },
     "execution_count": 155,
     "metadata": {},
     "output_type": "execute_result"
    }
   ],
   "source": [
    "string=\"hello wWorld\"\n",
    "s=string[:6]+string[7:]\n",
    "s"
   ]
  },
  {
   "cell_type": "markdown",
   "id": "f15945f9",
   "metadata": {},
   "source": [
    "### Program 62 Write a Python program to split and join a string."
   ]
  },
  {
   "cell_type": "code",
   "execution_count": 156,
   "id": "b13f6599",
   "metadata": {},
   "outputs": [
    {
     "data": {
      "text/plain": [
       "['Python', 'program', 'to', 'split', 'and', 'join', 'a', 'string']"
      ]
     },
     "execution_count": 156,
     "metadata": {},
     "output_type": "execute_result"
    }
   ],
   "source": [
    "input_str = \"Python program to split and join a string\"\n",
    "input_str.split()"
   ]
  },
  {
   "cell_type": "markdown",
   "id": "fa2bb5f9",
   "metadata": {},
   "source": [
    "### Program 63 Write a Python program to check if a given string is binary string or not.\n"
   ]
  },
  {
   "cell_type": "code",
   "execution_count": 187,
   "id": "c6181d5b",
   "metadata": {},
   "outputs": [
    {
     "name": "stdout",
     "output_type": "stream",
     "text": [
      "binary\n"
     ]
    }
   ],
   "source": [
    "input_str = \"1001110\"\n",
    "flag=0\n",
    "for i in input_str:\n",
    "    if i !=\"0\" and i !='1':\n",
    "        flag=1\n",
    "        break\n",
    "if flag==0:\n",
    "    print(\" its binary\")\n",
    "else:\n",
    "    print(\"Not binary bumber\")\n"
   ]
  },
  {
   "cell_type": "markdown",
   "id": "4487daac",
   "metadata": {},
   "source": [
    "### Program 64 Write a Python program to find uncommon words from two Strings"
   ]
  },
  {
   "cell_type": "code",
   "execution_count": null,
   "id": "f22b678c",
   "metadata": {},
   "outputs": [],
   "source": [
    "string1 = \"This is the first string\"\n",
    "string2 = \"This is the second string\""
   ]
  },
  {
   "cell_type": "code",
   "execution_count": null,
   "id": "e288e1db",
   "metadata": {},
   "outputs": [],
   "source": []
  },
  {
   "cell_type": "code",
   "execution_count": null,
   "id": "5fbc7fd6",
   "metadata": {},
   "outputs": [],
   "source": []
  },
  {
   "cell_type": "code",
   "execution_count": 204,
   "id": "4c53f295",
   "metadata": {},
   "outputs": [
    {
     "name": "stdout",
     "output_type": "stream",
     "text": [
      "first second\n"
     ]
    }
   ],
   "source": [
    "string1 = \"This is the first string\".split()\n",
    "string2 = \"This is the second string\".split()\n",
    "for i,j in zip(string1,string2):\n",
    "    if i!=j:\n",
    "        print(i,j)\n",
    "\n",
    "# for i in range(len(string1)):\n",
    " \n",
    "    "
   ]
  },
  {
   "cell_type": "code",
   "execution_count": 196,
   "id": "6e1ab211",
   "metadata": {},
   "outputs": [
    {
     "name": "stdout",
     "output_type": "stream",
     "text": [
      "['T', 'h', 'i', 's', ' ', 'i', 's', ' ', 't', 'h', 'e', ' ', 'f', 'i', 'r', 's', 't', ' ', 's', 't', 'r', 'i', 'n', 'g']"
     ]
    }
   ],
   "source": [
    "string1 = \"This is the first string\"\n",
    "s=list(string1)\n",
    "d=s\n",
    "print(d,end=\"\")"
   ]
  },
  {
   "cell_type": "markdown",
   "id": "3e567eb2",
   "metadata": {},
   "source": [
    "### Program 65 Write a Python program to find all duplicate characters in string."
   ]
  },
  {
   "cell_type": "code",
   "execution_count": null,
   "id": "b499b0ca",
   "metadata": {},
   "outputs": [],
   "source": [
    "s = input(\"enter any string\")\n",
    "c = 0\n",
    "for i in s:\n",
    "    if s[i] == "
   ]
  },
  {
   "cell_type": "code",
   "execution_count": 10,
   "id": "c15797a8",
   "metadata": {},
   "outputs": [
    {
     "name": "stdout",
     "output_type": "stream",
     "text": [
      "{'piyush': 1, 'sharma': 1}\n"
     ]
    }
   ],
   "source": [
    "# input_string = \"piyush sharma\"\n",
    "# word=input_string.split()\n",
    "# dict1={}\n",
    "# for i in range(len(word)):\n",
    "#     dict1[word[i]] = input_string.count(word[i])\n",
    "# print(dict1)"
   ]
  },
  {
   "cell_type": "markdown",
   "id": "fc3bf705",
   "metadata": {},
   "source": [
    "### Program 66 Write a Python Program to check if a string contains any special character."
   ]
  },
  {
   "cell_type": "markdown",
   "id": "a2ad9d09",
   "metadata": {},
   "source": [
    "### Program 67 Write a Python program to Extract Unique dictionary values."
   ]
  },
  {
   "cell_type": "code",
   "execution_count": 20,
   "id": "4bf52a4b",
   "metadata": {},
   "outputs": [
    {
     "ename": "AttributeError",
     "evalue": "'dict' object has no attribute 'add'",
     "output_type": "error",
     "traceback": [
      "\u001b[1;31m---------------------------------------------------------------------------\u001b[0m",
      "\u001b[1;31mAttributeError\u001b[0m                            Traceback (most recent call last)",
      "Cell \u001b[1;32mIn[20], line 3\u001b[0m\n\u001b[0;32m      1\u001b[0m dict1\u001b[38;5;241m=\u001b[39m{\u001b[38;5;124m\"\u001b[39m\u001b[38;5;124mA\u001b[39m\u001b[38;5;124m\"\u001b[39m:\u001b[38;5;241m10\u001b[39m,\u001b[38;5;124m\"\u001b[39m\u001b[38;5;124mB\u001b[39m\u001b[38;5;124m\"\u001b[39m:\u001b[38;5;241m20\u001b[39m,\u001b[38;5;124m\"\u001b[39m\u001b[38;5;124mC\u001b[39m\u001b[38;5;124m\"\u001b[39m:\u001b[38;5;241m30\u001b[39m,\u001b[38;5;124m\"\u001b[39m\u001b[38;5;124mD\u001b[39m\u001b[38;5;124m\"\u001b[39m:\u001b[38;5;241m40\u001b[39m}\n\u001b[0;32m      2\u001b[0m \u001b[38;5;28;01mfor\u001b[39;00m i \u001b[38;5;129;01min\u001b[39;00m dict1\u001b[38;5;241m.\u001b[39mvalues():\n\u001b[1;32m----> 3\u001b[0m     dict1\u001b[38;5;241m.\u001b[39madd(i)\n\u001b[0;32m      4\u001b[0m     \u001b[38;5;28mprint\u001b[39m(i)\n",
      "\u001b[1;31mAttributeError\u001b[0m: 'dict' object has no attribute 'add'"
     ]
    }
   ],
   "source": [
    "dict1={\"A\":10,\"B\":20,\"C\":30,\"D\":40}\n",
    "for i in dict1.values():\n",
    "    dict1.add(i)\n",
    "    print(i)"
   ]
  },
  {
   "cell_type": "markdown",
   "id": "de532de1",
   "metadata": {},
   "source": [
    "### Program 68 Write a Python program to find the sum of all items in a dictionary"
   ]
  },
  {
   "cell_type": "code",
   "execution_count": 24,
   "id": "00ae59e6",
   "metadata": {},
   "outputs": [
    {
     "name": "stdout",
     "output_type": "stream",
     "text": [
      "All values of dict to add:100\n"
     ]
    }
   ],
   "source": [
    "dict1={\"A\":10,\"B\":20,\"C\":30,\"D\":40}\n",
    "s=0\n",
    "for i in dict1.values():\n",
    "    s+=i\n",
    "print(f\"All values of dict to add:{s}\")"
   ]
  },
  {
   "cell_type": "markdown",
   "id": "c6506269",
   "metadata": {},
   "source": [
    "### Program 69 Write a Python program to Merging two Dictionaries"
   ]
  },
  {
   "cell_type": "code",
   "execution_count": 25,
   "id": "554fbca6",
   "metadata": {},
   "outputs": [],
   "source": [
    "dictA={\"a\":1,\"b\":2,\"c\":3}\n",
    "dictB={\"d\":4,\"e\":5,\"f\":6}\n",
    "dictA.update(dictB)"
   ]
  },
  {
   "cell_type": "code",
   "execution_count": 26,
   "id": "f75ba7a4",
   "metadata": {},
   "outputs": [
    {
     "data": {
      "text/plain": [
       "{'a': 1, 'b': 2, 'c': 3, 'd': 4, 'e': 5, 'f': 6}"
      ]
     },
     "execution_count": 26,
     "metadata": {},
     "output_type": "execute_result"
    }
   ],
   "source": [
    "dictA"
   ]
  },
  {
   "cell_type": "code",
   "execution_count": 28,
   "id": "6e38a2f9",
   "metadata": {},
   "outputs": [
    {
     "name": "stdout",
     "output_type": "stream",
     "text": [
      "a\n",
      "b\n",
      "c\n",
      "d\n",
      "e\n",
      "f\n"
     ]
    }
   ],
   "source": [
    "for i in dictA:\n",
    "    print(i,)"
   ]
  },
  {
   "cell_type": "markdown",
   "id": "fb0f1279",
   "metadata": {},
   "source": [
    "### Program 70 Write a Python program to convert key-values list to flat dictionary."
   ]
  },
  {
   "cell_type": "code",
   "execution_count": 31,
   "id": "8a5a8b4e",
   "metadata": {},
   "outputs": [
    {
     "ename": "TypeError",
     "evalue": "unsupported operand type(s) for +: 'dict' and 'str'",
     "output_type": "error",
     "traceback": [
      "\u001b[1;31m---------------------------------------------------------------------------\u001b[0m",
      "\u001b[1;31mTypeError\u001b[0m                                 Traceback (most recent call last)",
      "Cell \u001b[1;32mIn[31], line 5\u001b[0m\n\u001b[0;32m      3\u001b[0m na\u001b[38;5;241m=\u001b[39m{}\n\u001b[0;32m      4\u001b[0m \u001b[38;5;28;01mfor\u001b[39;00m i,j \u001b[38;5;129;01min\u001b[39;00m \u001b[38;5;28mzip\u001b[39m(name,age):\n\u001b[1;32m----> 5\u001b[0m     na\u001b[38;5;241m=\u001b[39mna\u001b[38;5;241m+\u001b[39mi\n",
      "\u001b[1;31mTypeError\u001b[0m: unsupported operand type(s) for +: 'dict' and 'str'"
     ]
    }
   ],
   "source": [
    "name=[\"ram\",\"ram1\",\"ram2\"]\n",
    "age=[1,2,3]\n",
    "na={}\n",
    "for i,j in zip(name,age):"
   ]
  },
  {
   "cell_type": "markdown",
   "id": "2c9aafda",
   "metadata": {},
   "source": [
    "### Program 71 Write a Python program to insertion at the beginning in OrderedDict"
   ]
  },
  {
   "cell_type": "markdown",
   "id": "9cf0d525",
   "metadata": {},
   "source": [
    "### Program 72 Write a Python program to check order of character in string using OrderedDict()"
   ]
  },
  {
   "cell_type": "code",
   "execution_count": 113,
   "id": "d3371afc",
   "metadata": {},
   "outputs": [
    {
     "data": {
      "text/plain": [
       "['hello', 'hai']"
      ]
     },
     "execution_count": 113,
     "metadata": {},
     "output_type": "execute_result"
    }
   ],
   "source": [
    "str1=\"hello hai\"\n",
    "str1.split()\n",
    "# s=list(str1)\n",
    "# s.split()"
   ]
  },
  {
   "cell_type": "code",
   "execution_count": null,
   "id": "93f726be",
   "metadata": {},
   "outputs": [],
   "source": [
    "from collections import OrderedDict\n",
    "def check_order(string, reference):\n",
    " # Create OrderedDicts for both strings\n",
    " string_dict = OrderedDict.fromkeys(string)\n",
    " reference_dict = OrderedDict.fromkeys(reference)\n",
    " \n",
    " # Check if the OrderedDict for the string matches the OrderedDict f\n",
    " return string_dict == reference_dict\n",
    "# Input strings\n",
    "input_string = \"hello world\"\n",
    "reference_string = \"helo wrd\"\n",
    "# Check if the order of characters in input_string matches reference_st\n",
    "if check_order(input_string, reference_string):\n",
    " print(\"The order of characters in the input string matches the refe\n",
    "else:\n",
    " print(\"The order of characters in the input string does not match t\n"
   ]
  },
  {
   "cell_type": "markdown",
   "id": "ff043e8b",
   "metadata": {},
   "source": [
    "### Program 73 Write a Python program to sort Python Dictionaries by Key or Value.\n"
   ]
  },
  {
   "cell_type": "code",
   "execution_count": 49,
   "id": "4ae72004",
   "metadata": {},
   "outputs": [
    {
     "data": {
      "text/plain": [
       "dict_items([('apple', 3), ('banana', 1), ('cherry', 2), ('date', 4)])"
      ]
     },
     "execution_count": 49,
     "metadata": {},
     "output_type": "execute_result"
    }
   ],
   "source": [
    "sample_dict = {'apple': 3, 'banana': 1, 'cherry': 2, 'date': 4}\n",
    "sample_dict.items()"
   ]
  },
  {
   "cell_type": "code",
   "execution_count": 51,
   "id": "ffb73c90",
   "metadata": {},
   "outputs": [
    {
     "name": "stdout",
     "output_type": "stream",
     "text": [
      "apple 3\n",
      "banana 1\n",
      "cherry 2\n",
      "date 4\n"
     ]
    }
   ],
   "source": [
    "sample_dict = {'apple': 3, 'banana': 1, 'cherry': 2, 'date': 4}\n",
    "for i in sample_dict:\n",
    "    print(i,sample_dict[i])"
   ]
  },
  {
   "cell_type": "markdown",
   "id": "fde7e5ad",
   "metadata": {},
   "source": [
    "### Program 74 Write a program that calculates and prints the value according to the given formula:\n"
   ]
  },
  {
   "cell_type": "code",
   "execution_count": null,
   "id": "530f0a15",
   "metadata": {},
   "outputs": [],
   "source": [
    "# Program 74\n",
    "# Write a program that calculates and prints the value according to the given formula:\n",
    "# Following are the fixed values of C and H:\n",
    "# C is 50. H is 30.\n",
    "# D is the variable whose values should be input to your program in a comma\u0002separated sequence.\n",
    "# Example\n",
    "# Let us assume the following comma separated input sequence is given to the\n",
    "# program:\n",
    "# 100,150,180\n",
    "# The output of the program should be:\n",
    "# 18,22,24"
   ]
  },
  {
   "cell_type": "markdown",
   "id": "a1442690",
   "metadata": {},
   "source": [
    "### Program 75 Write a program which takes 2 digits, X,Y as input and generates a 2-dimensional array."
   ]
  },
  {
   "cell_type": "code",
   "execution_count": null,
   "id": "9c4e96cc",
   "metadata": {},
   "outputs": [],
   "source": [
    "Program 75\n",
    "Write a program which takes 2 digits, X,Y as input and generates a 2-dimensional\n",
    "array. The element value in the i-th row and j-th column of the array should be i*j.\n",
    "Note: i=0,1.., X-1; j=0,1,¡Y-1.\n",
    "Example\n",
    "Suppose the following inputs are given to the program:\n",
    "3,5\n",
    "Then, the output of the program should be:\n",
    "[[0, 0, 0, 0, 0], [0, 1, 2, 3, 4], [0, 2, 4, 6, 8]]"
   ]
  },
  {
   "cell_type": "code",
   "execution_count": 121,
   "id": "8896a345",
   "metadata": {},
   "outputs": [
    {
     "name": "stdout",
     "output_type": "stream",
     "text": [
      "0\n",
      "1\n",
      "2\n",
      "0\n",
      "1\n",
      "2\n",
      "0\n",
      "1\n",
      "2\n",
      "0\n",
      "1\n",
      "2\n"
     ]
    }
   ],
   "source": [
    "for i in range(1,5):\n",
    "    for j in range(3):"
   ]
  },
  {
   "cell_type": "code",
   "execution_count": 58,
   "id": "0cfc1da6",
   "metadata": {},
   "outputs": [
    {
     "name": "stdout",
     "output_type": "stream",
     "text": [
      "[[2 2 2 2 2]\n",
      " [2 2 2 2 2]\n",
      " [2 2 2 2 2]]\n"
     ]
    }
   ],
   "source": [
    "import numpy as np\n",
    "\n",
    "# Create a 3x5 array filled with 2s\n",
    "x = np.full((3, 5), 2, dtype=np.uint)\n",
    "print(x)"
   ]
  },
  {
   "cell_type": "code",
   "execution_count": null,
   "id": "94af47a8",
   "metadata": {},
   "outputs": [],
   "source": [
    "Program 76\n",
    "Write a program that accepts a comma separated sequence of words as input and\n",
    "prints the words in a comma-separated sequence after sorting them alphabetically.\n",
    "Suppose the following input is supplied to the program:\n",
    "without,hello,bag,world\n",
    "Then, the output should be:\n",
    "bag,hello,without,world"
   ]
  },
  {
   "cell_type": "code",
   "execution_count": 99,
   "id": "3aee83b8",
   "metadata": {},
   "outputs": [
    {
     "name": "stdout",
     "output_type": "stream",
     "text": [
      "ente a sentecs sepret with (,)without,hello,bag,world\n"
     ]
    },
    {
     "data": {
      "text/plain": [
       "\"['bag', 'hello', 'without', 'world']\""
      ]
     },
     "execution_count": 99,
     "metadata": {},
     "output_type": "execute_result"
    }
   ],
   "source": [
    "# without,hello,bag,world\n",
    "num=input(\"ente a sentecs sepret with (,)\")\n",
    "list1=num.split(\",\")\n",
    "jump=sorted(list1)\n",
    "d=str(jump)\n",
    "f=\"\".join(d)\n",
    "f"
   ]
  },
  {
   "cell_type": "markdown",
   "id": "d0fd2055",
   "metadata": {},
   "source": [
    "### Program 79 Write a program that accepts a sentence and calculate the number of letters and\n",
    "digits. Suppose the following input is supplied to the program:"
   ]
  },
  {
   "cell_type": "code",
   "execution_count": 115,
   "id": "3ee998f0",
   "metadata": {},
   "outputs": [
    {
     "name": "stdout",
     "output_type": "stream",
     "text": [
      "enter a word: vkj12\n",
      "enter sentence all char of number 3\n",
      "enter the all number: 2\n"
     ]
    }
   ],
   "source": [
    "num=input(\"enter a word: \")\n",
    "chr_count=0\n",
    "num_count=0\n",
    "for i in num:\n",
    "    if i.isdigit():\n",
    "        num_count+=1\n",
    "    elif i.isalpha():\n",
    "        chr_count+=1\n",
    "print(\"enter sentence all char of number\",chr_count)\n",
    "print(\"enter the all number:\",num_count)"
   ]
  },
  {
   "cell_type": "code",
   "execution_count": null,
   "id": "6c1ee9c1",
   "metadata": {},
   "outputs": [],
   "source": [
    "Program 80\n",
    "A website requires the users to input username and password to register. Write a\n",
    "program to check the validity of password input by users. Following are the criteria\n",
    "for checking the password:\n",
    "1. At least 1 letter between [a-z]\n",
    "2. At least 1 number between [0-9]\n",
    "1. At least 1 letter between [A-Z]\n",
    "3. At least 1 character from [$#@]\n",
    "4. Minimum length of transaction password: 6\n",
    "5. Maximum length of transaction password: 12\n",
    "Your program should accept a sequence of comma separated passwords and will\n",
    "check them according to the above criteria. Passwords that match the criteria are to\n",
    "be printed, each separated by a comma.\n",
    "Example\n",
    "If the following passwords are given as input to the program:\n",
    "ABd1234@1,a F1#,2w3E*,2We3345\n",
    "Then, the output of the program should be:"
   ]
  },
  {
   "cell_type": "code",
   "execution_count": 137,
   "id": "9b378239",
   "metadata": {},
   "outputs": [
    {
     "name": "stdout",
     "output_type": "stream",
     "text": [
      "enter user name:ss\n",
      "entr your passwordaA\n"
     ]
    }
   ],
   "source": [
    "user_name=input(\"enter user name:\")\n",
    "password=input(\"entr your password\")"
   ]
  },
  {
   "cell_type": "code",
   "execution_count": 130,
   "id": "fd00f090",
   "metadata": {},
   "outputs": [
    {
     "data": {
      "text/plain": [
       "90"
      ]
     },
     "execution_count": 130,
     "metadata": {},
     "output_type": "execute_result"
    }
   ],
   "source": [
    "ord(\"Z\")"
   ]
  },
  {
   "cell_type": "code",
   "execution_count": null,
   "id": "290258de",
   "metadata": {},
   "outputs": [],
   "source": []
  }
 ],
 "metadata": {
  "kernelspec": {
   "display_name": "Python 3 (ipykernel)",
   "language": "python",
   "name": "python3"
  },
  "language_info": {
   "codemirror_mode": {
    "name": "ipython",
    "version": 3
   },
   "file_extension": ".py",
   "mimetype": "text/x-python",
   "name": "python",
   "nbconvert_exporter": "python",
   "pygments_lexer": "ipython3",
   "version": "3.11.5"
  }
 },
 "nbformat": 4,
 "nbformat_minor": 5
}
